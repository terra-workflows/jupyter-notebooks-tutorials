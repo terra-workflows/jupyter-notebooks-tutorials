{
 "cells": [
  {
   "cell_type": "markdown",
   "metadata": {},
   "source": [
    "# A note about opening notebooks in shared workspaces\n",
    "\n",
    "Master copies of notebooks should not be run or edited unless you intend to improve the code. As a general rule, it is good to be cautious when editing a notebook in a shared workspace, because you don't want to overwrite the work of your collaborators. Best practices is to test in a cloned workspace with an easily identifiable name."
   ]
  },
  {
   "cell_type": "markdown",
   "metadata": {},
   "source": [
    "# A note about setup notebooks\n",
    "\n",
    "If you don't already have a setup notebook in your workspace, copy this notebook to your workspace.\n",
    "\n",
    "In your workspace, run this notebook before running any other Python notebooks.\n",
    "\n",
    "This notebook needs to be rerun when your cluster is recreated. (This is rare -- when you stop using a notebook, your VM is paused, not deleted. Your cluster only recreates after you click the \"Delete cluster\" button.)"
   ]
  },
  {
   "cell_type": "markdown",
   "metadata": {},
   "source": [
    "# Python environment setup\n",
    "\n",
    "In this notebook we install a collection of Python packages above and beyond what is installed by default on Leonardo. These are packages used in one or more of the notebooks in this workspace.\n",
    "\n",
    "We specficially do this for Python 3. We recommend that you use Python 3 unless you have a specific reason to use Python 2.7."
   ]
  },
  {
   "cell_type": "markdown",
   "metadata": {},
   "source": [
    "## Install/update packages"
   ]
  },
  {
   "cell_type": "code",
   "execution_count": 1,
   "metadata": {},
   "outputs": [
    {
     "name": "stdout",
     "output_type": "stream",
     "text": [
      "Collecting pip\n",
      "\u001b[?25l  Downloading https://files.pythonhosted.org/packages/d8/f3/413bab4ff08e1fc4828dfc59996d721917df8e8583ea85385d51125dceff/pip-19.0.3-py2.py3-none-any.whl (1.4MB)\n",
      "\u001b[K    100% |████████████████████████████████| 1.4MB 10.8MB/s ta 0:00:01\n",
      "\u001b[?25hInstalling collected packages: pip\n",
      "Successfully installed pip-19.0.3\n",
      "\u001b[33mYou are using pip version 19.0.1, however version 19.0.3 is available.\n",
      "You should consider upgrading via the 'pip install --upgrade pip' command.\u001b[0m\n"
     ]
    }
   ],
   "source": [
    "!pip3 install --upgrade pip"
   ]
  },
  {
   "cell_type": "code",
   "execution_count": 2,
   "metadata": {},
   "outputs": [
    {
     "name": "stdout",
     "output_type": "stream",
     "text": [
      "Collecting google-cloud-bigquery\n",
      "\u001b[?25l  Downloading https://files.pythonhosted.org/packages/5b/4e/bc6a8c48d25670d10518fcb117f1d85b2f5452929f59ea302ee9756a576b/google_cloud_bigquery-1.10.0-py2.py3-none-any.whl (88kB)\n",
      "\u001b[K    100% |████████████████████████████████| 92kB 4.0MB/s ta 0:00:011\n",
      "\u001b[?25hCollecting google-api-core<2.0.0dev,>=1.6.0 (from google-cloud-bigquery)\n",
      "\u001b[?25l  Downloading https://files.pythonhosted.org/packages/7d/73/e4877e921fe59307ec6b1b0b0c2ad9fde2d1c6bab8dd06ec913891a20dc6/google_api_core-1.8.2-py2.py3-none-any.whl (65kB)\n",
      "\u001b[K    100% |████████████████████████████████| 71kB 23.7MB/s ta 0:00:01\n",
      "\u001b[?25hRequirement already satisfied, skipping upgrade: google-resumable-media>=0.3.1 in /usr/local/lib/python3.6/site-packages (from google-cloud-bigquery) (0.3.2)\n",
      "Collecting google-cloud-core<0.30dev,>=0.29.0 (from google-cloud-bigquery)\n",
      "  Downloading https://files.pythonhosted.org/packages/0c/f2/3c225e7a69cb27d283b68bff867722bd066bc1858611180197f711815ea5/google_cloud_core-0.29.1-py2.py3-none-any.whl\n",
      "Requirement already satisfied, skipping upgrade: google-auth<2.0dev,>=0.4.0 in /usr/local/lib/python3.6/site-packages (from google-api-core<2.0.0dev,>=1.6.0->google-cloud-bigquery) (1.6.3)\n",
      "Requirement already satisfied, skipping upgrade: googleapis-common-protos!=1.5.4,<2.0dev,>=1.5.3 in /usr/local/lib/python3.6/site-packages (from google-api-core<2.0.0dev,>=1.6.0->google-cloud-bigquery) (1.5.8)\n",
      "Requirement already satisfied, skipping upgrade: pytz in /usr/local/lib/python3.6/site-packages (from google-api-core<2.0.0dev,>=1.6.0->google-cloud-bigquery) (2017.3)\n",
      "Requirement already satisfied, skipping upgrade: setuptools>=34.0.0 in /usr/local/lib/python3.6/site-packages (from google-api-core<2.0.0dev,>=1.6.0->google-cloud-bigquery) (39.1.0)\n",
      "Requirement already satisfied, skipping upgrade: six>=1.10.0 in /usr/local/lib/python3.6/site-packages (from google-api-core<2.0.0dev,>=1.6.0->google-cloud-bigquery) (1.11.0)\n",
      "Requirement already satisfied, skipping upgrade: protobuf>=3.4.0 in /usr/local/lib/python3.6/site-packages (from google-api-core<2.0.0dev,>=1.6.0->google-cloud-bigquery) (3.5.0.post1)\n",
      "Requirement already satisfied, skipping upgrade: requests<3.0.0dev,>=2.18.0 in /usr/local/lib/python3.6/site-packages (from google-api-core<2.0.0dev,>=1.6.0->google-cloud-bigquery) (2.21.0)\n",
      "Requirement already satisfied, skipping upgrade: cachetools>=2.0.0 in /usr/local/lib/python3.6/site-packages (from google-auth<2.0dev,>=0.4.0->google-api-core<2.0.0dev,>=1.6.0->google-cloud-bigquery) (3.1.0)\n",
      "Requirement already satisfied, skipping upgrade: rsa>=3.1.4 in /usr/local/lib/python3.6/site-packages (from google-auth<2.0dev,>=0.4.0->google-api-core<2.0.0dev,>=1.6.0->google-cloud-bigquery) (4.0)\n",
      "Requirement already satisfied, skipping upgrade: pyasn1-modules>=0.2.1 in /usr/local/lib/python3.6/site-packages (from google-auth<2.0dev,>=0.4.0->google-api-core<2.0.0dev,>=1.6.0->google-cloud-bigquery) (0.2.4)\n",
      "Requirement already satisfied, skipping upgrade: certifi>=2017.4.17 in /usr/local/lib/python3.6/site-packages (from requests<3.0.0dev,>=2.18.0->google-api-core<2.0.0dev,>=1.6.0->google-cloud-bigquery) (2018.11.29)\n",
      "Requirement already satisfied, skipping upgrade: idna<2.9,>=2.5 in /usr/local/lib/python3.6/site-packages (from requests<3.0.0dev,>=2.18.0->google-api-core<2.0.0dev,>=1.6.0->google-cloud-bigquery) (2.8)\n",
      "Requirement already satisfied, skipping upgrade: urllib3<1.25,>=1.21.1 in /usr/local/lib/python3.6/site-packages (from requests<3.0.0dev,>=2.18.0->google-api-core<2.0.0dev,>=1.6.0->google-cloud-bigquery) (1.24.1)\n",
      "Requirement already satisfied, skipping upgrade: chardet<3.1.0,>=3.0.2 in /usr/local/lib/python3.6/site-packages (from requests<3.0.0dev,>=2.18.0->google-api-core<2.0.0dev,>=1.6.0->google-cloud-bigquery) (3.0.4)\n",
      "Requirement already satisfied, skipping upgrade: pyasn1>=0.1.3 in /usr/local/lib/python3.6/site-packages (from rsa>=3.1.4->google-auth<2.0dev,>=0.4.0->google-api-core<2.0.0dev,>=1.6.0->google-cloud-bigquery) (0.4.5)\n",
      "\u001b[31mgoogle-cloud-storage 1.13.0 has requirement google-cloud-core<0.29dev,>=0.28.0, but you'll have google-cloud-core 0.29.1 which is incompatible.\u001b[0m\n",
      "\u001b[31mgoogle-cloud-resource-manager 0.28.1 has requirement google-cloud-core<0.29dev,>=0.28.0, but you'll have google-cloud-core 0.29.1 which is incompatible.\u001b[0m\n",
      "\u001b[31mgoogle-cloud-datastore 1.7.0 has requirement google-cloud-core<0.29dev,>=0.28.0, but you'll have google-cloud-core 0.29.1 which is incompatible.\u001b[0m\n",
      "Installing collected packages: google-api-core, google-cloud-core, google-cloud-bigquery\n",
      "Successfully installed google-api-core-1.8.2 google-cloud-bigquery-1.10.0 google-cloud-core-0.29.1\n"
     ]
    }
   ],
   "source": [
    "!pip3 install --upgrade google-cloud-bigquery"
   ]
  },
  {
   "cell_type": "code",
   "execution_count": 3,
   "metadata": {},
   "outputs": [
    {
     "name": "stdout",
     "output_type": "stream",
     "text": [
      "Collecting pandas\n",
      "\u001b[?25l  Downloading https://files.pythonhosted.org/packages/19/74/e50234bc82c553fecdbd566d8650801e3fe2d6d8c8d940638e3d8a7c5522/pandas-0.24.2-cp36-cp36m-manylinux1_x86_64.whl (10.1MB)\n",
      "\u001b[K    100% |████████████████████████████████| 10.1MB 3.2MB/s eta 0:00:01\n",
      "\u001b[?25hCollecting pandas-gbq\n",
      "  Downloading https://files.pythonhosted.org/packages/70/78/cd5ce606a487cf62e82784237599b332dbdf23a41aa237578d906a49bee1/pandas_gbq-0.9.0-py2.py3-none-any.whl\n",
      "Requirement already satisfied, skipping upgrade: python-dateutil>=2.5.0 in /usr/local/lib/python3.6/site-packages (from pandas) (2.6.1)\n",
      "Requirement already satisfied, skipping upgrade: pytz>=2011k in /usr/local/lib/python3.6/site-packages (from pandas) (2017.3)\n",
      "Requirement already satisfied, skipping upgrade: numpy>=1.12.0 in /usr/local/lib/python3.6/site-packages (from pandas) (1.13.3)\n",
      "Requirement already satisfied, skipping upgrade: google-cloud-bigquery>=0.32.0 in /home/jupyter-user/.local/lib/python3.6/site-packages (from pandas-gbq) (1.10.0)\n",
      "Requirement already satisfied, skipping upgrade: google-auth in /usr/local/lib/python3.6/site-packages (from pandas-gbq) (1.6.3)\n",
      "Collecting google-auth-oauthlib (from pandas-gbq)\n",
      "  Downloading https://files.pythonhosted.org/packages/47/02/95e7c5b0965cf5b6b182b5ab81bdecb2157ce2f34a507a3de07b5244decd/google_auth_oauthlib-0.3.0-py2.py3-none-any.whl\n",
      "Collecting pydata-google-auth (from pandas-gbq)\n",
      "  Downloading https://files.pythonhosted.org/packages/89/c5/03b68c114bc2c2bcaa2e40fdf269a14361fa75b70a09415e8bad65413b75/pydata_google_auth-0.1.3-py2.py3-none-any.whl\n",
      "Requirement already satisfied, skipping upgrade: setuptools in /usr/local/lib/python3.6/site-packages (from pandas-gbq) (39.1.0)\n",
      "Requirement already satisfied, skipping upgrade: six>=1.5 in /usr/local/lib/python3.6/site-packages (from python-dateutil>=2.5.0->pandas) (1.11.0)\n",
      "Requirement already satisfied, skipping upgrade: google-resumable-media>=0.3.1 in /usr/local/lib/python3.6/site-packages (from google-cloud-bigquery>=0.32.0->pandas-gbq) (0.3.2)\n",
      "Requirement already satisfied, skipping upgrade: google-cloud-core<0.30dev,>=0.29.0 in /home/jupyter-user/.local/lib/python3.6/site-packages (from google-cloud-bigquery>=0.32.0->pandas-gbq) (0.29.1)\n",
      "Requirement already satisfied, skipping upgrade: google-api-core<2.0.0dev,>=1.6.0 in /home/jupyter-user/.local/lib/python3.6/site-packages (from google-cloud-bigquery>=0.32.0->pandas-gbq) (1.8.2)\n",
      "Requirement already satisfied, skipping upgrade: cachetools>=2.0.0 in /usr/local/lib/python3.6/site-packages (from google-auth->pandas-gbq) (3.1.0)\n",
      "Requirement already satisfied, skipping upgrade: rsa>=3.1.4 in /usr/local/lib/python3.6/site-packages (from google-auth->pandas-gbq) (4.0)\n",
      "Requirement already satisfied, skipping upgrade: pyasn1-modules>=0.2.1 in /usr/local/lib/python3.6/site-packages (from google-auth->pandas-gbq) (0.2.4)\n",
      "Collecting requests-oauthlib>=0.7.0 (from google-auth-oauthlib->pandas-gbq)\n",
      "  Downloading https://files.pythonhosted.org/packages/c2/e2/9fd03d55ffb70fe51f587f20bcf407a6927eb121de86928b34d162f0b1ac/requests_oauthlib-1.2.0-py2.py3-none-any.whl\n",
      "Requirement already satisfied, skipping upgrade: googleapis-common-protos!=1.5.4,<2.0dev,>=1.5.3 in /usr/local/lib/python3.6/site-packages (from google-api-core<2.0.0dev,>=1.6.0->google-cloud-bigquery>=0.32.0->pandas-gbq) (1.5.8)\n",
      "Requirement already satisfied, skipping upgrade: protobuf>=3.4.0 in /usr/local/lib/python3.6/site-packages (from google-api-core<2.0.0dev,>=1.6.0->google-cloud-bigquery>=0.32.0->pandas-gbq) (3.5.0.post1)\n",
      "Requirement already satisfied, skipping upgrade: requests<3.0.0dev,>=2.18.0 in /usr/local/lib/python3.6/site-packages (from google-api-core<2.0.0dev,>=1.6.0->google-cloud-bigquery>=0.32.0->pandas-gbq) (2.21.0)\n",
      "Requirement already satisfied, skipping upgrade: pyasn1>=0.1.3 in /usr/local/lib/python3.6/site-packages (from rsa>=3.1.4->google-auth->pandas-gbq) (0.4.5)\n",
      "Collecting oauthlib>=3.0.0 (from requests-oauthlib>=0.7.0->google-auth-oauthlib->pandas-gbq)\n",
      "\u001b[?25l  Downloading https://files.pythonhosted.org/packages/16/95/699466b05b72b94a41f662dc9edf87fda4289e3602ecd42d27fcaddf7b56/oauthlib-3.0.1-py2.py3-none-any.whl (142kB)\n",
      "\u001b[K    100% |████████████████████████████████| 143kB 26.5MB/s ta 0:00:01\n",
      "\u001b[?25hRequirement already satisfied, skipping upgrade: urllib3<1.25,>=1.21.1 in /usr/local/lib/python3.6/site-packages (from requests<3.0.0dev,>=2.18.0->google-api-core<2.0.0dev,>=1.6.0->google-cloud-bigquery>=0.32.0->pandas-gbq) (1.24.1)\n",
      "Requirement already satisfied, skipping upgrade: chardet<3.1.0,>=3.0.2 in /usr/local/lib/python3.6/site-packages (from requests<3.0.0dev,>=2.18.0->google-api-core<2.0.0dev,>=1.6.0->google-cloud-bigquery>=0.32.0->pandas-gbq) (3.0.4)\n",
      "Requirement already satisfied, skipping upgrade: certifi>=2017.4.17 in /usr/local/lib/python3.6/site-packages (from requests<3.0.0dev,>=2.18.0->google-api-core<2.0.0dev,>=1.6.0->google-cloud-bigquery>=0.32.0->pandas-gbq) (2018.11.29)\n",
      "Requirement already satisfied, skipping upgrade: idna<2.9,>=2.5 in /usr/local/lib/python3.6/site-packages (from requests<3.0.0dev,>=2.18.0->google-api-core<2.0.0dev,>=1.6.0->google-cloud-bigquery>=0.32.0->pandas-gbq) (2.8)\n",
      "Installing collected packages: pandas, oauthlib, requests-oauthlib, google-auth-oauthlib, pydata-google-auth, pandas-gbq\n",
      "\u001b[33m  The script google-oauthlib-tool is installed in '/home/jupyter-user/.local/bin' which is not on PATH.\n",
      "  Consider adding this directory to PATH or, if you prefer to suppress this warning, use --no-warn-script-location.\u001b[0m\n",
      "Successfully installed google-auth-oauthlib-0.3.0 oauthlib-3.0.1 pandas-0.24.2 pandas-gbq-0.9.0 pydata-google-auth-0.1.3 requests-oauthlib-1.2.0\n"
     ]
    }
   ],
   "source": [
    "!pip3 install --upgrade pandas pandas-gbq"
   ]
  },
  {
   "cell_type": "code",
   "execution_count": 4,
   "metadata": {},
   "outputs": [
    {
     "name": "stdout",
     "output_type": "stream",
     "text": [
      "Collecting ibis-framework\n",
      "\u001b[?25l  Downloading https://files.pythonhosted.org/packages/cd/2f/95bf8fd6ed0e15d32ee1ef784f853a362d066c305178e18c01218fa43319/ibis_framework-1.0.0-py3-none-any.whl (521kB)\n",
      "\u001b[K    100% |████████████████████████████████| 522kB 3.5MB/s eta 0:00:01\n",
      "\u001b[?25hCollecting regex (from ibis-framework)\n",
      "\u001b[?25l  Downloading https://files.pythonhosted.org/packages/a3/d5/7dca7f9a629f8cfb06232bc23b4ce1bb5daa2115cbeee7f6868c57f2beb3/regex-2019.03.12.tar.gz (644kB)\n",
      "\u001b[K    100% |████████████████████████████████| 645kB 16.0MB/s ta 0:00:01    73% |███████████████████████▍        | 471kB 33.5MB/s eta 0:00:01\n",
      "\u001b[?25hRequirement already satisfied, skipping upgrade: pandas>=0.21 in /home/jupyter-user/.local/lib/python3.6/site-packages (from ibis-framework) (0.24.2)\n",
      "Collecting multipledispatch>=0.6.0 (from ibis-framework)\n",
      "  Downloading https://files.pythonhosted.org/packages/89/79/429ecef45fd5e4504f7474d4c3c3c4668c267be3370e4c2fd33e61506833/multipledispatch-0.6.0-py3-none-any.whl\n",
      "Collecting toolz (from ibis-framework)\n",
      "\u001b[?25l  Downloading https://files.pythonhosted.org/packages/14/d0/a73c15bbeda3d2e7b381a36afb0d9cd770a9f4adc5d1532691013ba881db/toolz-0.9.0.tar.gz (45kB)\n",
      "\u001b[K    100% |████████████████████████████████| 51kB 6.3MB/s eta 0:00:01\n",
      "\u001b[?25hRequirement already satisfied, skipping upgrade: numpy>=1.11 in /usr/local/lib/python3.6/site-packages (from ibis-framework) (1.13.3)\n",
      "Requirement already satisfied, skipping upgrade: pytz in /usr/local/lib/python3.6/site-packages (from ibis-framework) (2017.3)\n",
      "Requirement already satisfied, skipping upgrade: python-dateutil>=2.5.0 in /usr/local/lib/python3.6/site-packages (from pandas>=0.21->ibis-framework) (2.6.1)\n",
      "Requirement already satisfied, skipping upgrade: six in /usr/local/lib/python3.6/site-packages (from multipledispatch>=0.6.0->ibis-framework) (1.11.0)\n",
      "Building wheels for collected packages: regex, toolz\n",
      "  Building wheel for regex (setup.py) ... \u001b[?25ldone\n",
      "\u001b[?25h  Stored in directory: /home/jupyter-user/.cache/pip/wheels/d3/76/85/9ba95e5ce50e8a922cfaf5ce518584b1c4ff2655870af24d37\n",
      "  Building wheel for toolz (setup.py) ... \u001b[?25ldone\n",
      "\u001b[?25h  Stored in directory: /home/jupyter-user/.cache/pip/wheels/f4/0c/f6/ce6b2d1aa459ee97cc3c0f82236302bd62d89c86c700219463\n",
      "Successfully built regex toolz\n",
      "Installing collected packages: regex, multipledispatch, toolz, ibis-framework\n",
      "Successfully installed ibis-framework-1.0.0 multipledispatch-0.6.0 regex-2019.3.12 toolz-0.9.0\n"
     ]
    }
   ],
   "source": [
    "!pip3 install --upgrade ibis-framework"
   ]
  },
  {
   "cell_type": "code",
   "execution_count": 5,
   "metadata": {},
   "outputs": [
    {
     "name": "stdout",
     "output_type": "stream",
     "text": [
      "Collecting tensorflow\n",
      "\u001b[?25l  Downloading https://files.pythonhosted.org/packages/77/63/a9fa76de8dffe7455304c4ed635be4aa9c0bacef6e0633d87d5f54530c5c/tensorflow-1.13.1-cp36-cp36m-manylinux1_x86_64.whl (92.5MB)\n",
      "\u001b[K    100% |████████████████████████████████| 92.5MB 426kB/s eta 0:00:01    26% |████████▌                       | 24.6MB 45.2MB/s eta 0:00:02\n",
      "\u001b[?25hRequirement already satisfied, skipping upgrade: numpy>=1.13.3 in /usr/local/lib/python3.6/site-packages (from tensorflow) (1.13.3)\n",
      "Requirement already satisfied, skipping upgrade: grpcio>=1.8.6 in /usr/local/lib/python3.6/site-packages (from tensorflow) (1.19.0)\n",
      "Requirement already satisfied, skipping upgrade: wheel>=0.26 in /usr/local/lib/python3.6/site-packages (from tensorflow) (0.33.1)\n",
      "Requirement already satisfied, skipping upgrade: absl-py>=0.1.6 in /usr/local/lib/python3.6/site-packages (from tensorflow) (0.7.1)\n",
      "Collecting protobuf>=3.6.1 (from tensorflow)\n",
      "\u001b[?25l  Downloading https://files.pythonhosted.org/packages/5a/aa/a858df367b464f5e9452e1c538aa47754d467023850c00b000287750fa77/protobuf-3.7.1-cp36-cp36m-manylinux1_x86_64.whl (1.2MB)\n",
      "\u001b[K    100% |████████████████████████████████| 1.2MB 15.5MB/s ta 0:00:01\n",
      "\u001b[?25hCollecting tensorboard<1.14.0,>=1.13.0 (from tensorflow)\n",
      "\u001b[?25l  Downloading https://files.pythonhosted.org/packages/0f/39/bdd75b08a6fba41f098b6cb091b9e8c7a80e1b4d679a581a0ccd17b10373/tensorboard-1.13.1-py3-none-any.whl (3.2MB)\n",
      "\u001b[K    100% |████████████████████████████████| 3.2MB 9.7MB/s eta 0:00:01\n",
      "\u001b[?25hCollecting keras-preprocessing>=1.0.5 (from tensorflow)\n",
      "\u001b[?25l  Downloading https://files.pythonhosted.org/packages/c0/bf/0315ef6a9fd3fc2346e85b0ff1f5f83ca17073f2c31ac719ab2e4da0d4a3/Keras_Preprocessing-1.0.9-py2.py3-none-any.whl (59kB)\n",
      "\u001b[K    100% |████████████████████████████████| 61kB 20.0MB/s ta 0:00:01\n",
      "\u001b[?25hCollecting keras-applications>=1.0.6 (from tensorflow)\n",
      "\u001b[?25l  Downloading https://files.pythonhosted.org/packages/90/85/64c82949765cfb246bbdaf5aca2d55f400f792655927a017710a78445def/Keras_Applications-1.0.7-py2.py3-none-any.whl (51kB)\n",
      "\u001b[K    100% |████████████████████████████████| 61kB 18.9MB/s ta 0:00:01\n",
      "\u001b[?25hRequirement already satisfied, skipping upgrade: termcolor>=1.1.0 in /usr/local/lib/python3.6/site-packages (from tensorflow) (1.1.0)\n",
      "Requirement already satisfied, skipping upgrade: six>=1.10.0 in /usr/local/lib/python3.6/site-packages (from tensorflow) (1.11.0)\n",
      "Requirement already satisfied, skipping upgrade: gast>=0.2.0 in /usr/local/lib/python3.6/site-packages (from tensorflow) (0.2.2)\n",
      "Requirement already satisfied, skipping upgrade: astor>=0.6.0 in /usr/local/lib/python3.6/site-packages (from tensorflow) (0.7.1)\n",
      "Collecting tensorflow-estimator<1.14.0rc0,>=1.13.0 (from tensorflow)\n",
      "\u001b[?25l  Downloading https://files.pythonhosted.org/packages/bb/48/13f49fc3fa0fdf916aa1419013bb8f2ad09674c275b4046d5ee669a46873/tensorflow_estimator-1.13.0-py2.py3-none-any.whl (367kB)\n",
      "\u001b[K    100% |████████████████████████████████| 368kB 23.1MB/s ta 0:00:01\n",
      "\u001b[?25hRequirement already satisfied, skipping upgrade: setuptools in /usr/local/lib/python3.6/site-packages (from protobuf>=3.6.1->tensorflow) (39.1.0)\n",
      "Requirement already satisfied, skipping upgrade: werkzeug>=0.11.15 in /usr/local/lib/python3.6/site-packages (from tensorboard<1.14.0,>=1.13.0->tensorflow) (0.12.2)\n",
      "Requirement already satisfied, skipping upgrade: markdown>=2.6.8 in /usr/local/lib/python3.6/site-packages (from tensorboard<1.14.0,>=1.13.0->tensorflow) (2.6.9)\n",
      "Requirement already satisfied, skipping upgrade: h5py in /usr/local/lib/python3.6/site-packages (from keras-applications>=1.0.6->tensorflow) (2.7.1)\n",
      "Collecting mock>=2.0.0 (from tensorflow-estimator<1.14.0rc0,>=1.13.0->tensorflow)\n",
      "\u001b[?25l  Downloading https://files.pythonhosted.org/packages/e6/35/f187bdf23be87092bd0f1200d43d23076cee4d0dec109f195173fd3ebc79/mock-2.0.0-py2.py3-none-any.whl (56kB)\n",
      "\u001b[K    100% |████████████████████████████████| 61kB 18.3MB/s ta 0:00:01\n",
      "\u001b[?25hCollecting pbr>=0.11 (from mock>=2.0.0->tensorflow-estimator<1.14.0rc0,>=1.13.0->tensorflow)\n",
      "\u001b[?25l  Downloading https://files.pythonhosted.org/packages/14/09/12fe9a14237a6b7e0ba3a8d6fcf254bf4b10ec56a0185f73d651145e9222/pbr-5.1.3-py2.py3-none-any.whl (107kB)\n",
      "\u001b[K    100% |████████████████████████████████| 112kB 27.7MB/s ta 0:00:01\n",
      "\u001b[31mkeras 2.2.0 has requirement keras-applications==1.0.2, but you'll have keras-applications 1.0.7 which is incompatible.\u001b[0m\n",
      "\u001b[31mkeras 2.2.0 has requirement keras-preprocessing==1.0.1, but you'll have keras-preprocessing 1.0.9 which is incompatible.\u001b[0m\n",
      "\u001b[31mgoogle-cloud-storage 1.13.0 has requirement google-cloud-core<0.29dev,>=0.28.0, but you'll have google-cloud-core 0.29.1 which is incompatible.\u001b[0m\n",
      "\u001b[31mgoogle-cloud-resource-manager 0.28.1 has requirement google-cloud-core<0.29dev,>=0.28.0, but you'll have google-cloud-core 0.29.1 which is incompatible.\u001b[0m\n",
      "\u001b[31mgoogle-cloud-datastore 1.7.0 has requirement google-cloud-core<0.29dev,>=0.28.0, but you'll have google-cloud-core 0.29.1 which is incompatible.\u001b[0m\n",
      "\u001b[?25hInstalling collected packages: protobuf, tensorboard, keras-preprocessing, keras-applications, pbr, mock, tensorflow-estimator, tensorflow\n",
      "\u001b[33m  The script tensorboard is installed in '/home/jupyter-user/.local/bin' which is not on PATH.\n",
      "  Consider adding this directory to PATH or, if you prefer to suppress this warning, use --no-warn-script-location.\u001b[0m\n",
      "\u001b[33m  The script pbr is installed in '/home/jupyter-user/.local/bin' which is not on PATH.\n",
      "  Consider adding this directory to PATH or, if you prefer to suppress this warning, use --no-warn-script-location.\u001b[0m\n",
      "\u001b[33m  The scripts freeze_graph, saved_model_cli, tensorboard, tf_upgrade_v2, tflite_convert, toco and toco_from_protos are installed in '/home/jupyter-user/.local/bin' which is not on PATH.\n",
      "  Consider adding this directory to PATH or, if you prefer to suppress this warning, use --no-warn-script-location.\u001b[0m\n",
      "Successfully installed keras-applications-1.0.7 keras-preprocessing-1.0.9 mock-2.0.0 pbr-5.1.3 protobuf-3.7.1 tensorboard-1.13.1 tensorflow-1.13.1 tensorflow-estimator-1.13.0\n"
     ]
    }
   ],
   "source": [
    "!pip3 install --upgrade tensorflow"
   ]
  },
  {
   "cell_type": "code",
   "execution_count": 6,
   "metadata": {},
   "outputs": [
    {
     "name": "stdout",
     "output_type": "stream",
     "text": [
      "Collecting firecloud\n",
      "\u001b[?25l  Downloading https://files.pythonhosted.org/packages/d0/04/5a50cb5125a6eb292d9920ea473ad1862a6cdd9896be88c4c61e08b1801f/firecloud-0.16.21.tar.gz (46kB)\n",
      "\u001b[K    100% |████████████████████████████████| 51kB 2.3MB/s ta 0:00:011\n",
      "\u001b[?25hCollecting google-auth==1.4.2 (from firecloud)\n",
      "\u001b[?25l  Downloading https://files.pythonhosted.org/packages/56/80/369a47c28ce7d9be6a6973338133d073864d8efbb62747e414c34a3a5f4f/google_auth-1.4.2-py2.py3-none-any.whl (64kB)\n",
      "\u001b[K    100% |████████████████████████████████| 71kB 6.5MB/s ta 0:00:011\n",
      "\u001b[?25hRequirement already satisfied, skipping upgrade: pydot in /usr/local/lib/python3.6/site-packages (from firecloud) (1.4.1)\n",
      "Requirement already satisfied, skipping upgrade: requests[security] in /usr/local/lib/python3.6/site-packages (from firecloud) (2.21.0)\n",
      "Collecting setuptools>=40.3.0 (from firecloud)\n",
      "\u001b[?25l  Downloading https://files.pythonhosted.org/packages/d1/6a/4b2fcefd2ea0868810e92d519dacac1ddc64a2e53ba9e3422c3b62b378a6/setuptools-40.8.0-py2.py3-none-any.whl (575kB)\n",
      "\u001b[K    100% |████████████████████████████████| 583kB 21.2MB/s ta 0:00:01\n",
      "\u001b[?25hRequirement already satisfied, skipping upgrade: six in /usr/local/lib/python3.6/site-packages (from firecloud) (1.11.0)\n",
      "Requirement already satisfied, skipping upgrade: nose in /usr/local/lib/python3.6/site-packages (from firecloud) (1.3.7)\n",
      "Requirement already satisfied, skipping upgrade: pylint==1.7.2 in /usr/local/lib/python3.6/site-packages (from firecloud) (1.7.2)\n",
      "Requirement already satisfied, skipping upgrade: pyasn1-modules>=0.2.1 in /usr/local/lib/python3.6/site-packages (from google-auth==1.4.2->firecloud) (0.2.4)\n",
      "Requirement already satisfied, skipping upgrade: rsa>=3.1.4 in /usr/local/lib/python3.6/site-packages (from google-auth==1.4.2->firecloud) (4.0)\n",
      "Requirement already satisfied, skipping upgrade: cachetools>=2.0.0 in /usr/local/lib/python3.6/site-packages (from google-auth==1.4.2->firecloud) (3.1.0)\n",
      "Requirement already satisfied, skipping upgrade: pyparsing>=2.1.4 in /usr/local/lib/python3.6/site-packages (from pydot->firecloud) (2.2.0)\n",
      "Requirement already satisfied, skipping upgrade: certifi>=2017.4.17 in /usr/local/lib/python3.6/site-packages (from requests[security]->firecloud) (2018.11.29)\n",
      "Requirement already satisfied, skipping upgrade: urllib3<1.25,>=1.21.1 in /usr/local/lib/python3.6/site-packages (from requests[security]->firecloud) (1.24.1)\n",
      "Requirement already satisfied, skipping upgrade: idna<2.9,>=2.5 in /usr/local/lib/python3.6/site-packages (from requests[security]->firecloud) (2.8)\n",
      "Requirement already satisfied, skipping upgrade: chardet<3.1.0,>=3.0.2 in /usr/local/lib/python3.6/site-packages (from requests[security]->firecloud) (3.0.4)\n",
      "Requirement already satisfied, skipping upgrade: cryptography>=1.3.4; extra == \"security\" in /usr/local/lib/python3.6/site-packages (from requests[security]->firecloud) (2.6.1)\n",
      "Requirement already satisfied, skipping upgrade: pyOpenSSL>=0.14; extra == \"security\" in /usr/local/lib/python3.6/site-packages (from requests[security]->firecloud) (19.0.0)\n",
      "Requirement already satisfied, skipping upgrade: astroid>=1.5.1 in /usr/local/lib/python3.6/site-packages (from pylint==1.7.2->firecloud) (2.2.4)\n",
      "Requirement already satisfied, skipping upgrade: mccabe in /usr/local/lib/python3.6/site-packages (from pylint==1.7.2->firecloud) (0.6.1)\n",
      "Requirement already satisfied, skipping upgrade: isort>=4.2.5 in /usr/local/lib/python3.6/site-packages (from pylint==1.7.2->firecloud) (4.3.12)\n",
      "Requirement already satisfied, skipping upgrade: pyasn1<0.5.0,>=0.4.1 in /usr/local/lib/python3.6/site-packages (from pyasn1-modules>=0.2.1->google-auth==1.4.2->firecloud) (0.4.5)\n",
      "Requirement already satisfied, skipping upgrade: cffi!=1.11.3,>=1.8 in /usr/local/lib/python3.6/site-packages (from cryptography>=1.3.4; extra == \"security\"->requests[security]->firecloud) (1.12.2)\n",
      "Requirement already satisfied, skipping upgrade: asn1crypto>=0.21.0 in /usr/local/lib/python3.6/site-packages (from cryptography>=1.3.4; extra == \"security\"->requests[security]->firecloud) (0.24.0)\n",
      "Requirement already satisfied, skipping upgrade: typed-ast>=1.3.0; implementation_name == \"cpython\" in /usr/local/lib/python3.6/site-packages (from astroid>=1.5.1->pylint==1.7.2->firecloud) (1.3.1)\n",
      "Requirement already satisfied, skipping upgrade: wrapt in /usr/local/lib/python3.6/site-packages (from astroid>=1.5.1->pylint==1.7.2->firecloud) (1.11.1)\n",
      "Requirement already satisfied, skipping upgrade: lazy-object-proxy in /usr/local/lib/python3.6/site-packages (from astroid>=1.5.1->pylint==1.7.2->firecloud) (1.3.1)\n",
      "Requirement already satisfied, skipping upgrade: pycparser in /usr/local/lib/python3.6/site-packages (from cffi!=1.11.3,>=1.8->cryptography>=1.3.4; extra == \"security\"->requests[security]->firecloud) (2.19)\n",
      "Building wheels for collected packages: firecloud\n",
      "  Building wheel for firecloud (setup.py) ... \u001b[?25ldone\n",
      "\u001b[?25h  Stored in directory: /home/jupyter-user/.cache/pip/wheels/41/e8/11/841c1706fea6242ea35a0fbbbbbf54c74c46a839363c58ce02\n",
      "Successfully built firecloud\n",
      "\u001b[31mgoogle-cloud-storage 1.13.0 has requirement google-cloud-core<0.29dev,>=0.28.0, but you'll have google-cloud-core 0.29.1 which is incompatible.\u001b[0m\n",
      "\u001b[31mgoogle-cloud-resource-manager 0.28.1 has requirement google-cloud-core<0.29dev,>=0.28.0, but you'll have google-cloud-core 0.29.1 which is incompatible.\u001b[0m\n",
      "\u001b[31mgoogle-cloud-datastore 1.7.0 has requirement google-cloud-core<0.29dev,>=0.28.0, but you'll have google-cloud-core 0.29.1 which is incompatible.\u001b[0m\n",
      "Installing collected packages: google-auth, setuptools, firecloud\n",
      "\u001b[33m  The script fissfc is installed in '/home/jupyter-user/.local/bin' which is not on PATH.\n",
      "  Consider adding this directory to PATH or, if you prefer to suppress this warning, use --no-warn-script-location.\u001b[0m\n",
      "Successfully installed firecloud-0.16.21 google-auth-1.4.2 setuptools-40.8.0\n"
     ]
    }
   ],
   "source": [
    "!pip3 install --upgrade firecloud"
   ]
  },
  {
   "cell_type": "markdown",
   "metadata": {},
   "source": [
    "[Plotnine](https://plotnine.readthedocs.io/en/stable/) is a library that provides ggplot2-like syntax on top of matplotlib. Its great!"
   ]
  },
  {
   "cell_type": "code",
   "execution_count": 7,
   "metadata": {},
   "outputs": [
    {
     "name": "stdout",
     "output_type": "stream",
     "text": [
      "Collecting plotnine\n",
      "\u001b[?25l  Downloading https://files.pythonhosted.org/packages/84/02/b171c828560aea3a5da1efda464230dac3ef4f4834b88e0bd52ad14a08f0/plotnine-0.5.1-py2.py3-none-any.whl (3.6MB)\n",
      "\u001b[K    100% |████████████████████████████████| 3.6MB 8.0MB/s eta 0:00:01\n",
      "\u001b[?25hCollecting matplotlib>=3.0.0 (from plotnine)\n",
      "\u001b[?25l  Downloading https://files.pythonhosted.org/packages/e9/69/f5e05f578585ed9935247be3788b374f90701296a70c8871bcd6d21edb00/matplotlib-3.0.3-cp36-cp36m-manylinux1_x86_64.whl (13.0MB)\n",
      "\u001b[K    100% |████████████████████████████████| 13.0MB 3.0MB/s eta 0:00:01\n",
      "\u001b[?25hRequirement already satisfied, skipping upgrade: statsmodels>=0.8.0 in /usr/local/lib/python3.6/site-packages (from plotnine) (0.9.0)\n",
      "Requirement already satisfied, skipping upgrade: pandas>=0.23.4 in /home/jupyter-user/.local/lib/python3.6/site-packages (from plotnine) (0.24.2)\n",
      "Collecting mizani>=0.5.2 (from plotnine)\n",
      "\u001b[?25l  Downloading https://files.pythonhosted.org/packages/d6/57/dd70eedf5d85cb328f73bbc661b7680f15bfebb07d8dabc3bda7de9faa7c/mizani-0.5.4-py2.py3-none-any.whl (58kB)\n",
      "\u001b[K    100% |████████████████████████████████| 61kB 21.4MB/s ta 0:00:01\n",
      "\u001b[?25hRequirement already satisfied, skipping upgrade: scipy>=1.0.0 in /usr/local/lib/python3.6/site-packages (from plotnine) (1.0.0)\n",
      "Requirement already satisfied, skipping upgrade: patsy>=0.4.1 in /usr/local/lib/python3.6/site-packages (from plotnine) (0.4.1)\n",
      "Collecting descartes>=1.1.0 (from plotnine)\n",
      "  Downloading https://files.pythonhosted.org/packages/e5/b6/1ed2eb03989ae574584664985367ba70cd9cf8b32ee8cad0e8aaeac819f3/descartes-1.1.0-py3-none-any.whl\n",
      "Requirement already satisfied, skipping upgrade: numpy in /usr/local/lib/python3.6/site-packages (from plotnine) (1.13.3)\n",
      "Requirement already satisfied, skipping upgrade: pyparsing!=2.0.4,!=2.1.2,!=2.1.6,>=2.0.1 in /usr/local/lib/python3.6/site-packages (from matplotlib>=3.0.0->plotnine) (2.2.0)\n",
      "Requirement already satisfied, skipping upgrade: python-dateutil>=2.1 in /usr/local/lib/python3.6/site-packages (from matplotlib>=3.0.0->plotnine) (2.6.1)\n",
      "Requirement already satisfied, skipping upgrade: cycler>=0.10 in /usr/local/lib/python3.6/site-packages (from matplotlib>=3.0.0->plotnine) (0.10.0)\n",
      "Requirement already satisfied, skipping upgrade: kiwisolver>=1.0.1 in /usr/local/lib/python3.6/site-packages (from matplotlib>=3.0.0->plotnine) (1.0.1)\n",
      "Requirement already satisfied, skipping upgrade: pytz>=2011k in /usr/local/lib/python3.6/site-packages (from pandas>=0.23.4->plotnine) (2017.3)\n",
      "Collecting palettable (from mizani>=0.5.2->plotnine)\n",
      "\u001b[?25l  Downloading https://files.pythonhosted.org/packages/56/8a/84537c0354f0d1f03bf644b71bf8e0a50db9c1294181905721a5f3efbf66/palettable-3.1.1-py2.py3-none-any.whl (77kB)\n",
      "\u001b[K    100% |████████████████████████████████| 81kB 20.2MB/s ta 0:00:01\n",
      "\u001b[?25hRequirement already satisfied, skipping upgrade: six in /usr/local/lib/python3.6/site-packages (from patsy>=0.4.1->plotnine) (1.11.0)\n",
      "Requirement already satisfied, skipping upgrade: setuptools in /home/jupyter-user/.local/lib/python3.6/site-packages (from kiwisolver>=1.0.1->matplotlib>=3.0.0->plotnine) (40.8.0)\n",
      "Installing collected packages: matplotlib, palettable, mizani, descartes, plotnine\n",
      "Successfully installed descartes-1.1.0 matplotlib-3.0.3 mizani-0.5.4 palettable-3.1.1 plotnine-0.5.1\n"
     ]
    }
   ],
   "source": [
    "!pip3 install --upgrade plotnine"
   ]
  },
  {
   "cell_type": "code",
   "execution_count": 8,
   "metadata": {},
   "outputs": [
    {
     "name": "stdout",
     "output_type": "stream",
     "text": [
      "Requirement already up-to-date: jupyter_contrib_nbextensions in /usr/local/lib/python3.6/site-packages (0.5.1)\n",
      "Requirement already satisfied, skipping upgrade: jupyter-latex-envs>=1.3.8 in /usr/local/lib/python3.6/site-packages (from jupyter_contrib_nbextensions) (1.4.6)\n",
      "Requirement already satisfied, skipping upgrade: pyyaml in /usr/local/lib/python3.6/site-packages (from jupyter_contrib_nbextensions) (3.12)\n",
      "Requirement already satisfied, skipping upgrade: tornado in /usr/local/lib/python3.6/site-packages (from jupyter_contrib_nbextensions) (4.5.3)\n",
      "Requirement already satisfied, skipping upgrade: jupyter-highlight-selected-word>=0.1.1 in /usr/local/lib/python3.6/site-packages (from jupyter_contrib_nbextensions) (0.2.0)\n",
      "Requirement already satisfied, skipping upgrade: nbconvert>=4.2 in /usr/local/lib/python3.6/site-packages (from jupyter_contrib_nbextensions) (5.4.1)\n",
      "Requirement already satisfied, skipping upgrade: jupyter-contrib-core>=0.3.3 in /usr/local/lib/python3.6/site-packages (from jupyter_contrib_nbextensions) (0.3.3)\n",
      "Requirement already satisfied, skipping upgrade: notebook>=4.0 in /usr/local/lib/python3.6/site-packages (from jupyter_contrib_nbextensions) (5.7.5)\n",
      "Requirement already satisfied, skipping upgrade: ipython-genutils in /usr/local/lib/python3.6/site-packages (from jupyter_contrib_nbextensions) (0.2.0)\n",
      "Requirement already satisfied, skipping upgrade: jupyter-nbextensions-configurator>=0.4.0 in /usr/local/lib/python3.6/site-packages (from jupyter_contrib_nbextensions) (0.4.1)\n",
      "Requirement already satisfied, skipping upgrade: traitlets>=4.1 in /usr/local/lib/python3.6/site-packages (from jupyter_contrib_nbextensions) (4.3.2)\n",
      "Requirement already satisfied, skipping upgrade: jupyter-core in /usr/local/lib/python3.6/site-packages (from jupyter_contrib_nbextensions) (4.4.0)\n",
      "Requirement already satisfied, skipping upgrade: lxml in /usr/local/lib/python3.6/site-packages (from jupyter_contrib_nbextensions) (4.3.2)\n",
      "Requirement already satisfied, skipping upgrade: ipython in /usr/local/lib/python3.6/site-packages (from jupyter-latex-envs>=1.3.8->jupyter_contrib_nbextensions) (7.3.0)\n",
      "Requirement already satisfied, skipping upgrade: pandocfilters>=1.4.1 in /usr/local/lib/python3.6/site-packages (from nbconvert>=4.2->jupyter_contrib_nbextensions) (1.4.2)\n",
      "Requirement already satisfied, skipping upgrade: entrypoints>=0.2.2 in /usr/local/lib/python3.6/site-packages (from nbconvert>=4.2->jupyter_contrib_nbextensions) (0.3)\n",
      "Requirement already satisfied, skipping upgrade: nbformat>=4.4 in /usr/local/lib/python3.6/site-packages (from nbconvert>=4.2->jupyter_contrib_nbextensions) (4.4.0)\n",
      "Requirement already satisfied, skipping upgrade: bleach in /usr/local/lib/python3.6/site-packages (from nbconvert>=4.2->jupyter_contrib_nbextensions) (1.5.0)\n",
      "Requirement already satisfied, skipping upgrade: mistune>=0.8.1 in /usr/local/lib/python3.6/site-packages (from nbconvert>=4.2->jupyter_contrib_nbextensions) (0.8.4)\n",
      "Requirement already satisfied, skipping upgrade: testpath in /usr/local/lib/python3.6/site-packages (from nbconvert>=4.2->jupyter_contrib_nbextensions) (0.4.2)\n",
      "Requirement already satisfied, skipping upgrade: jinja2 in /usr/local/lib/python3.6/site-packages (from nbconvert>=4.2->jupyter_contrib_nbextensions) (2.10)\n",
      "Requirement already satisfied, skipping upgrade: defusedxml in /usr/local/lib/python3.6/site-packages (from nbconvert>=4.2->jupyter_contrib_nbextensions) (0.5.0)\n",
      "Requirement already satisfied, skipping upgrade: pygments in /usr/local/lib/python3.6/site-packages (from nbconvert>=4.2->jupyter_contrib_nbextensions) (2.3.1)\n",
      "Requirement already satisfied, skipping upgrade: setuptools in /home/jupyter-user/.local/lib/python3.6/site-packages (from jupyter-contrib-core>=0.3.3->jupyter_contrib_nbextensions) (40.8.0)\n",
      "Requirement already satisfied, skipping upgrade: jupyter-client>=5.2.0 in /usr/local/lib/python3.6/site-packages (from notebook>=4.0->jupyter_contrib_nbextensions) (5.2.4)\n",
      "Requirement already satisfied, skipping upgrade: ipykernel in /usr/local/lib/python3.6/site-packages (from notebook>=4.0->jupyter_contrib_nbextensions) (5.1.0)\n",
      "Requirement already satisfied, skipping upgrade: prometheus-client in /usr/local/lib/python3.6/site-packages (from notebook>=4.0->jupyter_contrib_nbextensions) (0.6.0)\n",
      "Requirement already satisfied, skipping upgrade: Send2Trash in /usr/local/lib/python3.6/site-packages (from notebook>=4.0->jupyter_contrib_nbextensions) (1.5.0)\n",
      "Requirement already satisfied, skipping upgrade: terminado>=0.8.1 in /usr/local/lib/python3.6/site-packages (from notebook>=4.0->jupyter_contrib_nbextensions) (0.8.1)\n",
      "Requirement already satisfied, skipping upgrade: pyzmq>=17 in /usr/local/lib/python3.6/site-packages (from notebook>=4.0->jupyter_contrib_nbextensions) (18.0.1)\n",
      "Requirement already satisfied, skipping upgrade: decorator in /usr/local/lib/python3.6/site-packages (from traitlets>=4.1->jupyter_contrib_nbextensions) (4.3.0)\n",
      "Requirement already satisfied, skipping upgrade: six in /usr/local/lib/python3.6/site-packages (from traitlets>=4.1->jupyter_contrib_nbextensions) (1.11.0)\n",
      "Requirement already satisfied, skipping upgrade: backcall in /usr/local/lib/python3.6/site-packages (from ipython->jupyter-latex-envs>=1.3.8->jupyter_contrib_nbextensions) (0.1.0)\n",
      "Requirement already satisfied, skipping upgrade: prompt-toolkit<2.1.0,>=2.0.0 in /usr/local/lib/python3.6/site-packages (from ipython->jupyter-latex-envs>=1.3.8->jupyter_contrib_nbextensions) (2.0.9)\n",
      "Requirement already satisfied, skipping upgrade: pexpect; sys_platform != \"win32\" in /usr/local/lib/python3.6/site-packages (from ipython->jupyter-latex-envs>=1.3.8->jupyter_contrib_nbextensions) (4.6.0)\n",
      "Requirement already satisfied, skipping upgrade: pickleshare in /usr/local/lib/python3.6/site-packages (from ipython->jupyter-latex-envs>=1.3.8->jupyter_contrib_nbextensions) (0.7.5)\n",
      "Requirement already satisfied, skipping upgrade: jedi>=0.10 in /usr/local/lib/python3.6/site-packages (from ipython->jupyter-latex-envs>=1.3.8->jupyter_contrib_nbextensions) (0.13.3)\n",
      "Requirement already satisfied, skipping upgrade: jsonschema!=2.5.0,>=2.4 in /usr/local/lib/python3.6/site-packages (from nbformat>=4.4->nbconvert>=4.2->jupyter_contrib_nbextensions) (3.0.1)\n",
      "Requirement already satisfied, skipping upgrade: html5lib!=0.9999,!=0.99999,<0.99999999,>=0.999 in /usr/local/lib/python3.6/site-packages (from bleach->nbconvert>=4.2->jupyter_contrib_nbextensions) (0.9999999)\n",
      "Requirement already satisfied, skipping upgrade: MarkupSafe>=0.23 in /usr/local/lib/python3.6/site-packages (from jinja2->nbconvert>=4.2->jupyter_contrib_nbextensions) (1.1.1)\n",
      "Requirement already satisfied, skipping upgrade: python-dateutil>=2.1 in /usr/local/lib/python3.6/site-packages (from jupyter-client>=5.2.0->notebook>=4.0->jupyter_contrib_nbextensions) (2.6.1)\n",
      "Requirement already satisfied, skipping upgrade: ptyprocess; os_name != \"nt\" in /usr/local/lib/python3.6/site-packages (from terminado>=0.8.1->notebook>=4.0->jupyter_contrib_nbextensions) (0.6.0)\n",
      "Requirement already satisfied, skipping upgrade: wcwidth in /usr/local/lib/python3.6/site-packages (from prompt-toolkit<2.1.0,>=2.0.0->ipython->jupyter-latex-envs>=1.3.8->jupyter_contrib_nbextensions) (0.1.7)\n",
      "Requirement already satisfied, skipping upgrade: parso>=0.3.0 in /usr/local/lib/python3.6/site-packages (from jedi>=0.10->ipython->jupyter-latex-envs>=1.3.8->jupyter_contrib_nbextensions) (0.3.4)\n",
      "Requirement already satisfied, skipping upgrade: pyrsistent>=0.14.0 in /usr/local/lib/python3.6/site-packages (from jsonschema!=2.5.0,>=2.4->nbformat>=4.4->nbconvert>=4.2->jupyter_contrib_nbextensions) (0.14.11)\n",
      "Requirement already satisfied, skipping upgrade: attrs>=17.4.0 in /usr/local/lib/python3.6/site-packages (from jsonschema!=2.5.0,>=2.4->nbformat>=4.4->nbconvert>=4.2->jupyter_contrib_nbextensions) (19.1.0)\n"
     ]
    },
    {
     "name": "stderr",
     "output_type": "stream",
     "text": [
      "Up to date: /home/jupyter-user/.local/share/jupyter/nbextensions/toc2/main.css\n",
      "Up to date: /home/jupyter-user/.local/share/jupyter/nbextensions/toc2/image.png\n",
      "Up to date: /home/jupyter-user/.local/share/jupyter/nbextensions/toc2/demo.gif\n",
      "Up to date: /home/jupyter-user/.local/share/jupyter/nbextensions/toc2/main.js\n",
      "Up to date: /home/jupyter-user/.local/share/jupyter/nbextensions/toc2/toc2.js\n",
      "Up to date: /home/jupyter-user/.local/share/jupyter/nbextensions/toc2/demo3.gif\n",
      "Up to date: /home/jupyter-user/.local/share/jupyter/nbextensions/toc2/toc2.yaml\n",
      "Up to date: /home/jupyter-user/.local/share/jupyter/nbextensions/toc2/README.md\n",
      "Up to date: /home/jupyter-user/.local/share/jupyter/nbextensions/toc2/demo_dark.png\n",
      "Up to date: /home/jupyter-user/.local/share/jupyter/nbextensions/toc2/demo2.gif\n",
      "Up to date: /home/jupyter-user/.local/share/jupyter/nbextensions/toc2/icon.png\n",
      "\n",
      "    To initialize this nbextension in the browser every time the notebook (or other app) loads:\n",
      "    \n",
      "          jupyter nbextension enable <the entry point> --user\n",
      "    \n",
      "Enabling notebook extension toc2/main...\n",
      "      - Validating: \u001b[32mOK\u001b[0m\n"
     ]
    }
   ],
   "source": [
    "%%bash\n",
    "\n",
    "pip3 install --upgrade jupyter_contrib_nbextensions\n",
    "\n",
    "LOCATION=$(pip3 show jupyter_contrib_nbextensions | grep Location | awk '{print $2}')\n",
    "INSTALL_PATH=\"${LOCATION}/jupyter_contrib_nbextensions/nbextensions/toc2\"\n",
    "\n",
    "jupyter nbextension install ${INSTALL_PATH} --user\n",
    "jupyter nbextension enable toc2/main \n"
   ]
  },
  {
   "cell_type": "markdown",
   "metadata": {},
   "source": [
    "# Provenance"
   ]
  },
  {
   "cell_type": "code",
   "execution_count": 9,
   "metadata": {},
   "outputs": [
    {
     "name": "stdout",
     "output_type": "stream",
     "text": [
      "2019-03-27 16:17:05.853615\n"
     ]
    }
   ],
   "source": [
    "import datetime\n",
    "print(datetime.datetime.now())"
   ]
  },
  {
   "cell_type": "code",
   "execution_count": 10,
   "metadata": {
    "scrolled": true
   },
   "outputs": [
    {
     "name": "stdout",
     "output_type": "stream",
     "text": [
      "descartes==1.1.0\r\n",
      "firecloud==0.16.21\r\n",
      "google-api-core==1.8.2\r\n",
      "google-auth==1.4.2\r\n",
      "google-auth-oauthlib==0.3.0\r\n",
      "google-cloud-bigquery==1.10.0\r\n",
      "google-cloud-core==0.29.1\r\n",
      "ibis-framework==1.0.0\r\n",
      "Keras-Applications==1.0.7\r\n",
      "Keras-Preprocessing==1.0.9\r\n",
      "matplotlib==3.0.3\r\n",
      "mizani==0.5.4\r\n",
      "mock==2.0.0\r\n",
      "multipledispatch==0.6.0\r\n",
      "oauthlib==3.0.1\r\n",
      "palettable==3.1.1\r\n",
      "pandas==0.24.2\r\n",
      "pandas-gbq==0.9.0\r\n",
      "pbr==5.1.3\r\n",
      "plotnine==0.5.1\r\n",
      "protobuf==3.7.1\r\n",
      "pydata-google-auth==0.1.3\r\n",
      "regex==2019.3.12\r\n",
      "requests-oauthlib==1.2.0\r\n",
      "tensorboard==1.13.1\r\n",
      "tensorflow==1.13.1\r\n",
      "tensorflow-estimator==1.13.0\r\n",
      "toolz==0.9.0\r\n"
     ]
    }
   ],
   "source": [
    "!pip3 freeze"
   ]
  },
  {
   "cell_type": "markdown",
   "metadata": {},
   "source": [
    "Copyright 2019 The Broad Institute, Inc., Verily Life Sciences, LLC All rights reserved.\n",
    "\n",
    "This software may be modified and distributed under the terms of the BSD license. See the LICENSE file for details."
   ]
  }
 ],
 "metadata": {
  "kernelspec": {
   "display_name": "Python 3",
   "language": "python",
   "name": "python3"
  },
  "language_info": {
   "codemirror_mode": {
    "name": "ipython",
    "version": 3
   },
   "file_extension": ".py",
   "mimetype": "text/x-python",
   "name": "python",
   "nbconvert_exporter": "python",
   "pygments_lexer": "ipython3",
   "version": "3.6.8"
  },
  "toc": {
   "base_numbering": 1,
   "nav_menu": {},
   "number_sections": true,
   "sideBar": true,
   "skip_h1_title": false,
   "title_cell": "Table of Contents",
   "title_sidebar": "Contents",
   "toc_cell": false,
   "toc_position": {
    "height": "1028px",
    "left": "291px",
    "top": "110px",
    "width": "254.391px"
   },
   "toc_section_display": true,
   "toc_window_display": true
  }
 },
 "nbformat": 4,
 "nbformat_minor": 2
}
