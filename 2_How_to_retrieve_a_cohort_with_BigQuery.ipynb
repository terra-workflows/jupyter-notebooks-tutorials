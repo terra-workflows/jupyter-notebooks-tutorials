{
 "cells": [
  {
   "cell_type": "markdown",
   "metadata": {},
   "source": [
    "# A note about opening notebooks in shared workspaces <a class=\"tocSkip\">\n",
    "\n",
    "Master copies of notebooks should not be run or edited unless you intend to improve the code. As a general rule, it is good to be cautious when editing a notebook in a shared workspace, because you don't want to overwrite the work of your collaborators. Best practices is to test in a cloned workspace with an easily identifiable name."
   ]
  },
  {
   "cell_type": "markdown",
   "metadata": {
    "toc": true
   },
   "source": [
    "<h1>Table of Contents<span class=\"tocSkip\"></span></h1>\n",
    "<div class=\"toc\"><ul class=\"toc-item\"><li><span><a href=\"#BigQuery-Cohort-Examples\" data-toc-modified-id=\"BigQuery-Cohort-Examples-1\"><span class=\"toc-item-num\">1&nbsp;&nbsp;</span>BigQuery Cohort Examples</a></span></li><li><span><a href=\"#Setup\" data-toc-modified-id=\"Setup-2\"><span class=\"toc-item-num\">2&nbsp;&nbsp;</span>Setup</a></span></li><li><span><a href=\"#Get-the-cohort-query\" data-toc-modified-id=\"Get-the-cohort-query-3\"><span class=\"toc-item-num\">3&nbsp;&nbsp;</span>Get the cohort query</a></span></li><li><span><a href=\"#Call-BigQuery\" data-toc-modified-id=\"Call-BigQuery-4\"><span class=\"toc-item-num\">4&nbsp;&nbsp;</span>Call BigQuery</a></span></li><li><span><a href=\"#Join-with-another-Table\" data-toc-modified-id=\"Join-with-another-Table-5\"><span class=\"toc-item-num\">5&nbsp;&nbsp;</span>Join with another Table</a></span></li><li><span><a href=\"#Plot\" data-toc-modified-id=\"Plot-6\"><span class=\"toc-item-num\">6&nbsp;&nbsp;</span>Plot</a></span></li><li><span><a href=\"#Provenance\" data-toc-modified-id=\"Provenance-7\"><span class=\"toc-item-num\">7&nbsp;&nbsp;</span>Provenance</a></span></li></ul></div>"
   ]
  },
  {
   "cell_type": "markdown",
   "metadata": {},
   "source": [
    "# BigQuery Cohort Examples\n",
    "This notebook provides examples of how to manipulate cohorts using BigQuery in a notebook. We will be working with the public-access 1,000 Genomes Project data."
   ]
  },
  {
   "cell_type": "markdown",
   "metadata": {},
   "source": [
    "# Setup\n",
    "\n",
    "First, be sure to run the notebook **`R environment setup`** in this workspace."
   ]
  },
  {
   "cell_type": "code",
   "execution_count": null,
   "metadata": {},
   "outputs": [],
   "source": [
    "# Load additional R packages needed to run the code\n",
    "library(reticulate)\n",
    "library(bigrquery)\n",
    "library(ggplot2)"
   ]
  },
  {
   "cell_type": "code",
   "execution_count": null,
   "metadata": {},
   "outputs": [],
   "source": [
    "# Set the project id of the could project to bill for queries to BigQuery\n",
    "BILLING_PROJECT_ID <- Sys.getenv('GOOGLE_PROJECT')"
   ]
  },
  {
   "cell_type": "code",
   "execution_count": null,
   "metadata": {},
   "outputs": [],
   "source": [
    "# Authorize bigrquery client\n",
    "bigrquery::set_service_token(Ronaldo::getServiceAccountKey())"
   ]
  },
  {
   "cell_type": "markdown",
   "metadata": {},
   "source": [
    "# Get the cohort query"
   ]
  },
  {
   "cell_type": "code",
   "execution_count": null,
   "metadata": {},
   "outputs": [],
   "source": [
    "cohort_query <- \"SELECT DISTINCT t1.participant_id FROM (SELECT participant_id \n",
    "FROM `verily-public-data.human_genome_variants.1000_genomes_participant_info` \n",
    "WHERE  ((Super_Population_Description = \\\"American\\\"))) t1\""
   ]
  },
  {
   "cell_type": "markdown",
   "metadata": {},
   "source": [
    "# Call BigQuery"
   ]
  },
  {
   "cell_type": "code",
   "execution_count": null,
   "metadata": {},
   "outputs": [],
   "source": [
    "# Execute the query and return all results into an in-memory table in R\n",
    "t <- bigrquery::bq_project_query(\n",
    "    BILLING_PROJECT_ID,\n",
    "    cohort_query\n",
    ")\n",
    "tt <- bigrquery::bq_table_download(t)"
   ]
  },
  {
   "cell_type": "markdown",
   "metadata": {},
   "source": [
    "Take a peek at the output"
   ]
  },
  {
   "cell_type": "code",
   "execution_count": null,
   "metadata": {},
   "outputs": [],
   "source": [
    "print(tt)"
   ]
  },
  {
   "cell_type": "markdown",
   "metadata": {},
   "source": [
    "# Join with another Table"
   ]
  },
  {
   "cell_type": "code",
   "execution_count": null,
   "metadata": {},
   "outputs": [],
   "source": [
    "query <- '\n",
    "SELECT\n",
    "    DISTINCT participant_id,\n",
    "    Gender\n",
    "FROM\n",
    "    `verily-public-data.human_genome_variants.1000_genomes_participant_info`\n",
    "'\n",
    "table_data <- bigrquery::bq_project_query(\n",
    "    BILLING_PROJECT_ID,\n",
    "    query\n",
    ")\n",
    "table <- bigrquery::bq_table_download(table_data)\n",
    "dim(table)"
   ]
  },
  {
   "cell_type": "code",
   "execution_count": null,
   "metadata": {},
   "outputs": [],
   "source": [
    "merged_table <- merge(x = tt, y = table, by=\"participant_id\", all.x = TRUE)\n",
    "dim(merged_table)"
   ]
  },
  {
   "cell_type": "markdown",
   "metadata": {},
   "source": [
    "# Plot"
   ]
  },
  {
   "cell_type": "code",
   "execution_count": null,
   "metadata": {},
   "outputs": [],
   "source": [
    "grouped <- table(merged_table$Gender)\n",
    "print(grouped)\n",
    "\n",
    "g <- ggplot(merged_table, aes(Gender))\n",
    "g + geom_bar()"
   ]
  },
  {
   "cell_type": "markdown",
   "metadata": {},
   "source": [
    "# Provenance"
   ]
  },
  {
   "cell_type": "code",
   "execution_count": null,
   "metadata": {},
   "outputs": [],
   "source": [
    "devtools::session_info()"
   ]
  },
  {
   "cell_type": "markdown",
   "metadata": {},
   "source": [
    "Copyright 2019 The Broad Institute, Inc., Verily Life Sciences, LLC All rights reserved.\n",
    "\n",
    "This software may be modified and distributed under the terms of the BSD license. See the LICENSE file for details."
   ]
  }
 ],
 "metadata": {
  "kernelspec": {
   "display_name": "R",
   "language": "R",
   "name": "ir"
  },
  "language_info": {
   "codemirror_mode": "r",
   "file_extension": ".r",
   "mimetype": "text/x-r-source",
   "name": "R",
   "pygments_lexer": "r",
   "version": "3.5.2"
  },
  "toc": {
   "base_numbering": 1,
   "nav_menu": {},
   "number_sections": true,
   "sideBar": true,
   "skip_h1_title": false,
   "title_cell": "Table of Contents",
   "title_sidebar": "Contents",
   "toc_cell": true,
   "toc_position": {
    "height": "838.976px",
    "left": "21px",
    "top": "470.965px",
    "width": "267.917px"
   },
   "toc_section_display": true,
   "toc_window_display": false
  }
 },
 "nbformat": 4,
 "nbformat_minor": 2
}
