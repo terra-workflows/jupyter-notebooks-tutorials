{
 "cells": [
  {
   "cell_type": "markdown",
   "metadata": {},
   "source": [
    "# A note about opening notebooks in shared workspaces <a class=\"tocSkip\">\n",
    "\n",
    "Master copies of notebooks should not be run or edited unless you intend to improve the code. As a general rule, it is good to be cautious when editing a notebook in a shared workspace, because you don't want to overwrite the work of your collaborators. Best practices is to test in a cloned workspace with an easily identifiable name."
   ]
  },
  {
   "cell_type": "markdown",
   "metadata": {},
   "source": [
    "# 1000 Genomes via bigrquery and dplyr\n",
    "\n",
    "This notebook demonstrates two ways to use BigQuery with R\n",
    "1. Using SQL syntax\n",
    "2. Using only R code to extract the data of interest from BigQuery"
   ]
  },
  {
   "cell_type": "markdown",
   "metadata": {},
   "source": [
    "# R-environment Setup\n",
    "\n",
    "First, be sure to run the general notebook **`R environment setup`** in this workspace. \n",
    "\n",
    "Then run the cells to add additional needed libraries, set the project id, and authorize the BigQuery client. "
   ]
  },
  {
   "cell_type": "code",
   "execution_count": null,
   "metadata": {},
   "outputs": [],
   "source": [
    "# Load additional R libraries needed for this notebook into memory\n",
    "library(bigrquery)\n",
    "library(dplyr)\n",
    "library(skimr)\n",
    "library(ggplot2)"
   ]
  },
  {
   "cell_type": "code",
   "execution_count": null,
   "metadata": {},
   "outputs": [],
   "source": [
    "# Set the project id of the clould project to bill for Queries to BigQuery\n",
    "BILLING_PROJECT_ID <- Sys.getenv('GOOGLE_PROJECT')"
   ]
  },
  {
   "cell_type": "code",
   "execution_count": null,
   "metadata": {},
   "outputs": [],
   "source": [
    "# Authorize bigrquery client\n",
    "bigrquery::set_service_token(Ronaldo::getServiceAccountKey())"
   ]
  },
  {
   "cell_type": "markdown",
   "metadata": {},
   "source": [
    "# Retrieve filtered data\n",
    "Let’s retrieve a subset of fields and samples in metadata for [1000 Genomes](http://www.internationalgenome.org/data \"1000 Genomes\").\n",
    "\n",
    "We will do this in two different ways. Both return the same results.\n",
    "\n",
    "1. Using SQL and bigrquery\n",
    "2. Using dplyr and dbplyr"
   ]
  },
  {
   "cell_type": "markdown",
   "metadata": {},
   "source": [
    "## Option 1: Retrieve filtered data using bigrquery\n",
    "\n",
    "To learn more about SQL syntax see the [BigQuery standard SQL reference](https://cloud.google.com/bigquery/docs/reference/standard-sql/)."
   ]
  },
  {
   "cell_type": "code",
   "execution_count": null,
   "metadata": {},
   "outputs": [],
   "source": [
    "# Run a query with standard SQL \n",
    "phase1_samples_tbl <- bigrquery::bq_project_query(\n",
    "    BILLING_PROJECT_ID,\n",
    "    query = '\n",
    "SELECT\n",
    "  Sample,\n",
    "  Gender,\n",
    "  Relationship,\n",
    "  Population,\n",
    "  Population_Description,\n",
    "  Super_Population,\n",
    "  Super_Population_Description,\n",
    "  Total_Exome_Sequence,\n",
    "  Main_Project_E_Platform,\n",
    "  Main_Project_E_Centers\n",
    "FROM\n",
    "  `bigquery-public-data.human_genome_variants.1000_genomes_sample_info`\n",
    "WHERE\n",
    "  -- Only include information for samples in phase 1.\n",
    "  In_Phase1_Integrated_Variant_Set = TRUE\n",
    "  -- Only include information for samples with these relationships.\n",
    "  AND Relationship IN (\"\", \"unrel\", \"child\", \"father\", \"mother\",\n",
    "  \"mat grandmother\", \"pat grandmother\",\n",
    "  \"mat grandfather\", \"pat grandfather\")\n",
    "')\n",
    "\n",
    "phase1_samples <- bigrquery::bq_table_download(phase1_samples_tbl)"
   ]
  },
  {
   "cell_type": "code",
   "execution_count": null,
   "metadata": {},
   "outputs": [],
   "source": [
    "dim(phase1_samples)"
   ]
  },
  {
   "cell_type": "code",
   "execution_count": null,
   "metadata": {},
   "outputs": [],
   "source": [
    "print(skim(phase1_samples))"
   ]
  },
  {
   "cell_type": "code",
   "execution_count": null,
   "metadata": {},
   "outputs": [],
   "source": [
    "ggplot(data = phase1_samples,\n",
    "       aes(x=Relationship, fill=Relationship)) +\n",
    "  geom_bar() +\n",
    "  theme(axis.text.x = element_text(angle = 50, hjust = 1, vjust = 1))"
   ]
  },
  {
   "cell_type": "markdown",
   "metadata": {},
   "source": [
    "## Option 2: Retrieve filtered data using dplyr\n",
    "To learn more about dplyr see [R for Data Science Chapter 5 Data transformation](http://r4ds.had.co.nz/transform.html \"Chapter 5\")."
   ]
  },
  {
   "cell_type": "code",
   "execution_count": null,
   "metadata": {},
   "outputs": [],
   "source": [
    "# Create a \"connection\" to a public BigQuery dataset.\n",
    "dbcon <- bigrquery::src_bigquery(project = 'bigquery-public-data',\n",
    "                                 dataset = 'human_genome_variants',\n",
    "                                 billing = BILLING_PROJECT_ID)\n",
    "\n",
    "# Create a 'virtual dataframe' backed by a BigQuery table.\n",
    "sample_info <- dplyr::tbl(dbcon, '1000_genomes_sample_info')"
   ]
  },
  {
   "cell_type": "code",
   "execution_count": null,
   "metadata": {},
   "outputs": [],
   "source": [
    "phase1_only <- sample_info %>% filter(\n",
    "    In_Phase1_Integrated_Variant_Set == TRUE,\n",
    "    Relationship %in% c(\n",
    "      '', 'unrel', 'child', 'father', 'mother',\n",
    "      'mat grandmother', 'pat grandmother',\n",
    "      'mat grandfather', 'pat grandfather')\n",
    "  )\n",
    "# Nothing is computed on BigQuery yet."
   ]
  },
  {
   "cell_type": "code",
   "execution_count": null,
   "metadata": {},
   "outputs": [],
   "source": [
    "sample_fields <- phase1_only %>% select(\n",
    "  Sample,\n",
    "  Gender,\n",
    "  Relationship,\n",
    "  Population,\n",
    "  Population_Description,\n",
    "  Super_Population,\n",
    "  Super_Population_Description,\n",
    "  Total_Exome_Sequence,\n",
    "  Main_Project_E_Platform,\n",
    "  Main_Project_E_Centers\n",
    "  )\n",
    "# Still nothing computed on BigQuery."
   ]
  },
  {
   "cell_type": "code",
   "execution_count": null,
   "metadata": {},
   "outputs": [],
   "source": [
    "# Optional: take a look at the SQL.\n",
    "dplyr::show_query(sample_fields)"
   ]
  },
  {
   "cell_type": "code",
   "execution_count": null,
   "metadata": {},
   "outputs": [],
   "source": [
    "# Optional: See how much data this will return.\n",
    "sample_fields %>% summarize(cnt = n()) %>% collect()"
   ]
  },
  {
   "cell_type": "code",
   "execution_count": null,
   "metadata": {},
   "outputs": [],
   "source": [
    "# Execute the query and return all results into an in-memory table in R.\n",
    "phase1_samples <- sample_fields %>% collect()"
   ]
  },
  {
   "cell_type": "code",
   "execution_count": null,
   "metadata": {},
   "outputs": [],
   "source": [
    "dim(phase1_samples)"
   ]
  },
  {
   "cell_type": "code",
   "execution_count": null,
   "metadata": {},
   "outputs": [],
   "source": [
    "ggplot(data = phase1_samples,\n",
    "       aes(x=Relationship, fill=Relationship)) +\n",
    "  geom_bar() +\n",
    "  theme(axis.text.x = element_text(angle = 50, hjust = 1, vjust = 1))"
   ]
  },
  {
   "cell_type": "markdown",
   "metadata": {},
   "source": [
    "# Provenance"
   ]
  },
  {
   "cell_type": "code",
   "execution_count": null,
   "metadata": {},
   "outputs": [],
   "source": [
    "devtools::session_info()"
   ]
  },
  {
   "cell_type": "markdown",
   "metadata": {},
   "source": [
    "Copyright 2018 The Broad Institute, Inc., Verily Life Sciences, LLC All rights reserved.\n",
    "\n",
    "This software may be modified and distributed under the terms of the BSD license. See the LICENSE file for details."
   ]
  }
 ],
 "metadata": {
  "kernelspec": {
   "display_name": "R",
   "language": "R",
   "name": "ir"
  },
  "language_info": {
   "codemirror_mode": "r",
   "file_extension": ".r",
   "mimetype": "text/x-r-source",
   "name": "R",
   "pygments_lexer": "r",
   "version": "3.5.2"
  },
  "toc": {
   "base_numbering": 1,
   "nav_menu": {},
   "number_sections": true,
   "sideBar": true,
   "skip_h1_title": false,
   "title_cell": "Table of Contents",
   "title_sidebar": "Contents",
   "toc_cell": false,
   "toc_position": {
    "height": "calc(100% - 180px)",
    "left": "10px",
    "top": "150px",
    "width": "311.516px"
   },
   "toc_section_display": true,
   "toc_window_display": true
  }
 },
 "nbformat": 4,
 "nbformat_minor": 2
}
